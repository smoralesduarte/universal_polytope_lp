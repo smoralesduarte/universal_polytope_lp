{
 "cells": [
  {
   "cell_type": "code",
   "execution_count": 143,
   "id": "d6ff48fb",
   "metadata": {},
   "outputs": [],
   "source": [
    "import itertools\n",
    "import numpy as np\n",
    "import matplotlib.pyplot as plt\n",
    "import math\n",
    "import time\n",
    "import os\n",
    "os.environ[\"GRB_LICENSE_FILE\"] = \"/Users/smorales/gurobi.lic\"\n",
    "\n",
    "import gurobipy as gp\n",
    "from gurobipy import GRB\n"
   ]
  },
  {
   "cell_type": "markdown",
   "id": "3a6c0a0f",
   "metadata": {},
   "source": [
    "# Examples"
   ]
  },
  {
   "cell_type": "code",
   "execution_count": null,
   "id": "31c04985",
   "metadata": {},
   "outputs": [],
   "source": [
    "# --- Fano base polytope vertices in R^7 (28 vertices) ---\n",
    "FANO_POINTS = {\n",
    "    0: [0, 1, 0, 0, 0, 1, 1], 1: [0, 0, 1, 0, 0, 1, 1], 2: [0, 0, 0, 1, 0, 1, 1],\n",
    "    3: [0, 0, 0, 0, 1, 1, 1], 4: [1, 0, 0, 0, 1, 0, 1], 5: [0, 0, 1, 0, 1, 0, 1],\n",
    "    6: [0, 0, 0, 1, 1, 0, 1], 7: [1, 0, 0, 1, 0, 0, 1], 8: [0, 1, 0, 1, 0, 0, 1],\n",
    "    9: [1, 0, 1, 0, 0, 0, 1], 10: [0, 1, 1, 0, 0, 0, 1], 11: [1, 1, 0, 0, 0, 0, 1],\n",
    "    12: [1, 0, 0, 0, 1, 1, 0], 13: [0, 1, 0, 0, 1, 1, 0], 14: [0, 0, 0, 1, 1, 1, 0],\n",
    "    15: [1, 0, 0, 1, 0, 1, 0], 16: [0, 0, 1, 1, 0, 1, 0], 17: [1, 0, 1, 0, 0, 1, 0],\n",
    "    18: [0, 1, 1, 0, 0, 1, 0], 19: [1, 1, 0, 0, 0, 1, 0], 20: [0, 1, 0, 1, 1, 0, 0],\n",
    "    21: [0, 0, 1, 1, 1, 0, 0], 22: [1, 0, 1, 0, 1, 0, 0], 23: [0, 1, 1, 0, 1, 0, 0],\n",
    "    24: [1, 1, 0, 0, 1, 0, 0], 25: [1, 0, 1, 1, 0, 0, 0], 26: [0, 1, 1, 1, 0, 0, 0],\n",
    "    27: [1, 1, 0, 1, 0, 0, 0]\n",
    "}\n",
    "\n",
    "# remove three random points from FANO_POINTS\n",
    "import random\n",
    "to_remove = 7\n",
    "points_to_remove = random.sample(list(FANO_POINTS.keys()), to_remove)\n",
    "for p in points_to_remove:\n",
    "    del FANO_POINTS[p]\n",
    "\n",
    "# reorder keys so they go from 0 to 27 - to_remove\n",
    "FANO_POINTS = {i: FANO_POINTS[k] for i, k in enumerate(FANO_POINTS.keys())}\n",
    "\n",
    "\n",
    "FANO_RANK = 7\n",
    "\n",
    "# Test for known unimodular simplices of the Fano matroid\n",
    "FANO_known_unimodular_simplices = [\n",
    "    (0, 1, 2, 3, 5, 9, 18),\n",
    "    (3, 4, 12, 13, 14, 17, 23),\n",
    "    (3, 4, 12, 14, 17, 22, 23),\n",
    "    (3, 5, 6, 9, 11, 18, 23),\n",
    "    (11, 15, 17, 19, 20, 22, 27)\n",
    "]\n",
    "\n",
    "# Print the removed points if any\n",
    "if to_remove > 0:\n",
    "    print(f\"Removed points: {points_to_remove}\")"
   ]
  },
  {
   "cell_type": "code",
   "execution_count": 145,
   "id": "f1d1a243",
   "metadata": {},
   "outputs": [
    {
     "name": "stdout",
     "output_type": "stream",
     "text": [
      "Volume of the Fano Polytope: 166\n"
     ]
    }
   ],
   "source": [
    "import subprocess, json, math\n",
    "\n",
    "def compute_volume(vertices, normalizing_factor=None, script=\"compute_volume.sage.py\"):\n",
    "    args = ['sage', '-python', script, json.dumps(vertices)]\n",
    "    if normalizing_factor is not None:\n",
    "        args.append(str(normalizing_factor))\n",
    "    result = subprocess.run(args, capture_output=True, text=True)\n",
    "    if result.returncode != 0:\n",
    "        raise RuntimeError(f\"Sage error:\\n{result.stderr}\")\n",
    "    return result.stdout.strip()\n",
    "\n",
    "# Example:\n",
    "nf = math.factorial(FANO_RANK - 1) / math.sqrt(FANO_RANK)   # keep as float\n",
    "FANO_VOLUME = int(compute_volume(list(FANO_POINTS.values()), nf))\n",
    "print(\"Volume of the Fano Polytope:\", FANO_VOLUME)  # Should be 232"
   ]
  },
  {
   "cell_type": "code",
   "execution_count": 146,
   "id": "f149c5a7",
   "metadata": {},
   "outputs": [],
   "source": [
    "# -----------------------------------------------------------------------------\n",
    "# Data for the 6 vertices of the mother of all examples 2D point configuration.\n",
    "# Each has 3 coordinates that sum to 4. \n",
    "\n",
    "MOTHER_POINTS = {\n",
    "    0: [4, 0, 0], 1: [0, 4, 0], 2: [0, 0, 4],\n",
    "    3: [2, 1, 1], 4: [1, 2, 1], 5: [1, 1, 2]\n",
    "}\n",
    "\n",
    "MOTHER_RANK = 3"
   ]
  },
  {
   "cell_type": "code",
   "execution_count": 147,
   "id": "8a569efa",
   "metadata": {},
   "outputs": [],
   "source": [
    "CUBE_POINTS = {\n",
    "    0: [0, 0, 1, 1], 1: [0, 1, 1, 1], 2: [1, 1, 1, 1], 3: [1, 0, 1, 1],\n",
    "    4: [0, 0, 0, 1], 5: [0, 1, 0, 1], 6: [1, 1, 0, 1], 7: [1, 0, 0, 1]\n",
    "}\n",
    "\n",
    "CUBE_RANK = 4"
   ]
  },
  {
   "cell_type": "markdown",
   "id": "06e330d9",
   "metadata": {},
   "source": [
    "# Generate the LP to optimize over the Universal Polytope"
   ]
  },
  {
   "cell_type": "markdown",
   "id": "afe288ba",
   "metadata": {},
   "source": [
    "## 1. Get unimodular simplices"
   ]
  },
  {
   "cell_type": "code",
   "execution_count": 148,
   "id": "2121756e",
   "metadata": {},
   "outputs": [],
   "source": [
    "def cayley_menger_det(indices, D2):\n",
    "    \"\"\"\n",
    "    Cayley-Menger determinant for the simplex with vertex indices 'indices'.\n",
    "    Returns (determinant, volume_squared, volume).\n",
    "    For m vertices, the simplex dimension is n = m - 1.\n",
    "    \"\"\"\n",
    "    idx = np.array(indices, dtype=int)\n",
    "    m = len(idx)                       # number of vertices\n",
    "    n = m - 1                          # simplex dimension\n",
    "    # Build the (m+1) x (m+1) CM matrix:\n",
    "    M = np.ones((m + 1, m + 1), dtype=np.float64)\n",
    "    M[:m, :m] = D2[np.ix_(idx, idx)]   # top-left block = pairwise d^2\n",
    "    np.fill_diagonal(M[:m, :m], 0.0)   # ensure exact 0 on diagonal\n",
    "    M[-1, -1] = 0.0                    # bottom-right corner\n",
    "\n",
    "    det = float(np.linalg.det(M))\n",
    "    # The normalized factor for the Caley-Menger determinant, multiplied dimension factorial over the co-volume of the lattice squared\n",
    "    factor = ((-1)**(n + 1)) / (7 * (2**n))\n",
    "    vol_sq = factor * det\n",
    "    # guard small negative due to FP roundoff\n",
    "    vol = math.sqrt(vol_sq) if vol_sq >= 0 else 0.0\n",
    "    return vol\n",
    "\n",
    "# Find all unimodular simplices in a point configuration\n",
    "def get_unimodular_simplices(points, rank):\n",
    "    # Precompute pairwise squared distances\n",
    "    P = np.array([points[i] for i in range(len(points))], dtype=np.float64) \n",
    "    D2 = np.sum((P[:, None, :] - P[None, :, :])**2, axis=2)\n",
    "    unimodular_simplices = []\n",
    "    for simplex in itertools.combinations(range(len(points)), rank):\n",
    "        vol = round(cayley_menger_det(simplex, D2))\n",
    "        if vol == 1:\n",
    "            unimodular_simplices.append(simplex)\n",
    "    return unimodular_simplices"
   ]
  },
  {
   "cell_type": "code",
   "execution_count": 149,
   "id": "739a89d1",
   "metadata": {},
   "outputs": [
    {
     "data": {
      "image/png": "[encoded data removed]",
      "text/plain": [
       "<Figure size 640x480 with 1 Axes>"
      ]
     },
     "metadata": {},
     "output_type": "display_data"
    },
    {
     "name": "stdout",
     "output_type": "stream",
     "text": [
      "Unique volumes: [0, 1, 2, 3, 4, 8]\n"
     ]
    }
   ],
   "source": [
    "# For testing print a histogram of the normalized volumes of all the simplices\n",
    "def print_volume_histogram(simplices):\n",
    "    volumes = []\n",
    "    unique_volumes = set()\n",
    "\n",
    "    # Precompute pairwise squared distances\n",
    "    P = np.array([FANO_POINTS[i] for i in range(len(FANO_POINTS))], dtype=np.float64) \n",
    "    D2 = np.sum((P[:, None, :] - P[None, :, :])**2, axis=2)\n",
    "\n",
    "    for s in simplices:\n",
    "        vol = round(cayley_menger_det(s, D2))\n",
    "        volumes.append(vol)\n",
    "        unique_volumes.add(round(vol))\n",
    "    \n",
    "    plt.hist(volumes, bins=20, density=False, alpha=0.7, color='blue')\n",
    "    plt.title('Histogram of Normalized Volumes of Simplices')\n",
    "    plt.xlabel('Volume')\n",
    "    plt.ylabel('Density')\n",
    "    plt.grid()\n",
    "    plt.show()\n",
    "    print(f\"Unique volumes: {sorted(unique_volumes)}\")\n",
    "\n",
    "print_volume_histogram(itertools.combinations(range(len(FANO_POINTS)), 7))"
   ]
  },
  {
   "cell_type": "code",
   "execution_count": 150,
   "id": "b94aef16",
   "metadata": {},
   "outputs": [
    {
     "name": "stdout",
     "output_type": "stream",
     "text": [
      "Found 48667 unimodular simplices for the fano matroid polytope.\n"
     ]
    }
   ],
   "source": [
    "test = get_unimodular_simplices(FANO_POINTS, FANO_RANK)\n",
    "print(f\"Found {len(test)} unimodular simplices for the fano matroid polytope.\")"
   ]
  },
  {
   "cell_type": "markdown",
   "id": "2f94c2b4",
   "metadata": {},
   "source": [
    "## 2. Compute the Chirotope"
   ]
  },
  {
   "cell_type": "code",
   "execution_count": 151,
   "id": "675992fc",
   "metadata": {},
   "outputs": [],
   "source": [
    "# Initialize the chirotope dictionary by computing the simplices\n",
    "\n",
    "def initialize_chirotope(point_configuration, rank, tolerance=1e-13):\n",
    "    n = len(point_configuration)\n",
    "    chirotope = {}\n",
    "    possible_simplices = itertools.combinations(range(n), rank)\n",
    "    for comb in possible_simplices:\n",
    "        simplex = tuple(comb)\n",
    "        det = np.linalg.det(np.array([point_configuration[i] for i in simplex]))\n",
    "        if abs(det) < tolerance:\n",
    "            chirotope[simplex] = 0\n",
    "        else:\n",
    "            chirotope[simplex] = np.sign(det)\n",
    "    return chirotope"
   ]
  },
  {
   "cell_type": "markdown",
   "id": "8ff62395",
   "metadata": {},
   "source": [
    "### Testing"
   ]
  },
  {
   "cell_type": "code",
   "execution_count": 152,
   "id": "ef0f6f07",
   "metadata": {},
   "outputs": [
    {
     "name": "stdout",
     "output_type": "stream",
     "text": [
      "Mother chirotope initialized in 0.000128 seconds.\n",
      "Fano chirotope initialized in 0.502386 seconds.\n"
     ]
    }
   ],
   "source": [
    "# print times for the mother and the fano examples\n",
    "mother_start = time.time()\n",
    "mother_chirotope = initialize_chirotope(MOTHER_POINTS, MOTHER_RANK)\n",
    "mother_end = time.time()\n",
    "print(f\"Mother chirotope initialized in {mother_end - mother_start:.6f} seconds.\")  \n",
    "fano_start = time.time()\n",
    "fano_chirotope = initialize_chirotope(FANO_POINTS, FANO_RANK)\n",
    "fano_end = time.time()\n",
    "print(f\"Fano chirotope initialized in {fano_end - fano_start:.6f} seconds.\")"
   ]
  },
  {
   "cell_type": "markdown",
   "id": "304cc01c",
   "metadata": {},
   "source": [
    "## 3. Encode the Wall inequalities"
   ]
  },
  {
   "cell_type": "code",
   "execution_count": 153,
   "id": "3117dbaa",
   "metadata": {},
   "outputs": [],
   "source": [
    "# Get the list of simplex facets of the point configuration (every r - 1 subset of the non-zero chirotope simplices)\n",
    "def get_simplex_facets(chirotope, rank):\n",
    "    facets = []\n",
    "    for simplex, sign in chirotope.items():\n",
    "        if sign != 0:\n",
    "            for facet in itertools.combinations(simplex, rank - 1):\n",
    "                facets.append(facet)\n",
    "    return sorted(list(set(facets))) # return unique facets"
   ]
  },
  {
   "cell_type": "code",
   "execution_count": 154,
   "id": "07817edd",
   "metadata": {},
   "outputs": [
    {
     "name": "stdout",
     "output_type": "stream",
     "text": [
      "Mother of all examples has 15 facets.\n",
      "[(0, 1), (0, 2), (0, 3), (0, 4), (0, 5), (1, 2), (1, 3), (1, 4), (1, 5), (2, 3), (2, 4), (2, 5), (3, 4), (3, 5), (4, 5)]\n"
     ]
    }
   ],
   "source": [
    "# Testing on the mother of all examples, print the simplex facets\n",
    "mother_facets = get_simplex_facets(mother_chirotope, MOTHER_RANK)\n",
    "print(f\"Mother of all examples has {len(mother_facets)} facets.\")\n",
    "print(mother_facets)"
   ]
  },
  {
   "cell_type": "code",
   "execution_count": 155,
   "id": "85b3cb71",
   "metadata": {},
   "outputs": [],
   "source": [
    "# Find the co-circuit signatures for each facet \n",
    "# Output a tuple of two lists for each simplex facet: negative and postive signatures\n",
    "# The sign of the permutation is considered\n",
    "def find_cocircuit_signatures(chirotope, facets, n):\n",
    "    cocircuit_signatures = {}\n",
    "    # for each facet, go through all vertices not in the facet\n",
    "    # find the number of inversions (r - index of the vertex in the ordered simplex)\n",
    "    r = len(facets[0]) + 1\n",
    "    for facet in facets:\n",
    "        negative_signatures = []\n",
    "        positive_signatures = []\n",
    "        facet_set = set(facet)\n",
    "        for vertex in range(n):\n",
    "            if vertex not in facet_set:\n",
    "                # Create the full simplex by adding the vertex\n",
    "                full_simplex = list(facet) + [vertex]\n",
    "                full_simplex.sort()\n",
    "                # Account for the sign of the permutation\n",
    "                correction = (r - full_simplex.index(vertex)) % 2 \n",
    "                sign = chirotope.get(tuple(full_simplex)) * (-1)**correction\n",
    "                if sign == -1:\n",
    "                    negative_signatures.append(vertex)\n",
    "                elif sign == 1:\n",
    "                    positive_signatures.append(vertex)\n",
    "        cocircuit_signatures[facet] = (negative_signatures, positive_signatures)\n",
    "    return cocircuit_signatures"
   ]
  },
  {
   "cell_type": "markdown",
   "id": "b4987234",
   "metadata": {},
   "source": [
    "### Wall inequalities"
   ]
  },
  {
   "cell_type": "code",
   "execution_count": 156,
   "id": "b0669bb8",
   "metadata": {},
   "outputs": [],
   "source": [
    "# Start encoding the constraints for gurobi (gurobipy)\n",
    "def get_wall_inequalities(chirotope, facets, n):\n",
    "    cocircuit_signatures = find_cocircuit_signatures(chirotope, facets, n)\n",
    "    inequalities = []\n",
    "    for facet, (negatives, positives) in cocircuit_signatures.items():\n",
    "        if negatives and positives:  # Only consider facets with both signs (they are interior walls)\n",
    "            positive_simplices = [tuple(sorted(facet + (v,))) for v in positives]\n",
    "            negative_simplices = [tuple(sorted(facet + (v,))) for v in negatives]\n",
    "            inequalities.append([positive_simplices, negative_simplices])\n",
    "    return inequalities"
   ]
  },
  {
   "cell_type": "code",
   "execution_count": 157,
   "id": "6263b360",
   "metadata": {},
   "outputs": [
    {
     "name": "stdout",
     "output_type": "stream",
     "text": [
      "Model has 61708 variables and 39266 constraints.\n"
     ]
    }
   ],
   "source": [
    "# Initialize the gurobi model for the fano matroid example\n",
    "m = gp.Model()\n",
    "\n",
    "x = {}\n",
    "# add variables for each simplex with non-zero chirotope value\n",
    "for simplex, sign in fano_chirotope.items():\n",
    "    if sign != 0:\n",
    "        x[simplex] = m.addVar(vtype=GRB.BINARY, name=f\"x_{simplex}\")\n",
    "\n",
    "# add constraints for each wall inequality\n",
    "fano_facets = get_simplex_facets(fano_chirotope, FANO_RANK)\n",
    "fano_wall_inequalities = get_wall_inequalities(fano_chirotope, fano_facets, len(FANO_POINTS))\n",
    "for idx, (positives, negatives) in enumerate(fano_wall_inequalities):\n",
    "    expr = gp.LinExpr()\n",
    "    for simplex in positives:\n",
    "        expr += x[simplex]\n",
    "    for simplex in negatives:\n",
    "        expr -= x[simplex]\n",
    "    # positives minus negatives = 0\n",
    "    m.addConstr(expr == 0, name=f\"wall_{idx}\")\n",
    "\n",
    "m.update()\n",
    "# print some info about the model so far\n",
    "print(f\"Model has {m.numVars} variables and {m.numConstrs} constraints.\")"
   ]
  },
  {
   "cell_type": "markdown",
   "id": "a6326076",
   "metadata": {},
   "source": [
    "## 4. Encode the (assuming unimodular) Flag inequalities"
   ]
  },
  {
   "cell_type": "code",
   "execution_count": 158,
   "id": "9f328887",
   "metadata": {},
   "outputs": [
    {
     "name": "stdout",
     "output_type": "stream",
     "text": [
      "Number of triangles: 1330\n",
      "Model has 61918 variables and 1336464 constraints.\n"
     ]
    }
   ],
   "source": [
    "# add a variable for each 2-subset (edge) of the 28 vertices\n",
    "for edge in itertools.combinations(range(len(FANO_POINTS)), 2):\n",
    "    x[edge] = m.addVar(vtype=GRB.BINARY, name=f\"x_{edge}\")\n",
    "\n",
    "# Go through the simplices, for each one, add a constraint to activate the edges if the simplex is active\n",
    "for simplex in fano_chirotope.keys():\n",
    "    if fano_chirotope[simplex] != 0:\n",
    "        for edge in itertools.combinations(simplex, 2):\n",
    "            m.addConstr(x[simplex] <= x[edge], name=f\"simplex_edge_{simplex}_{edge}\")\n",
    "\n",
    "\n",
    "# create a dictionary such that for each triangle, we have the list of simplices that contain it (do it efficiently)\n",
    "triangle_to_simplices = {}\n",
    "for simplex in fano_chirotope.keys():\n",
    "    if fano_chirotope[simplex] != 0:\n",
    "        for triangle in itertools.combinations(simplex, 3):\n",
    "            if triangle not in triangle_to_simplices:\n",
    "                triangle_to_simplices[triangle] = []\n",
    "            triangle_to_simplices[triangle].append(simplex)\n",
    "\n",
    "print(f\"Number of triangles: {len(triangle_to_simplices)}\")\n",
    "\n",
    "# For each triangle, add a constraint that if the three edges of a triangle are active, at least one of the simplices containing it is active\n",
    "for triangle, simplices in triangle_to_simplices.items():\n",
    "    expr = gp.LinExpr()\n",
    "    for edge in itertools.combinations(triangle, 2):\n",
    "        expr += x[edge]\n",
    "\n",
    "    for simplex in simplices:\n",
    "        expr -= x[simplex]\n",
    "    m.addConstr(expr <= 2, name=f\"triangle_{triangle}\")\n",
    "\n",
    "\n",
    "m.update()\n",
    "# print some info about the model so far\n",
    "print(f\"Model has {m.numVars} variables and {m.numConstrs} constraints.\")\n",
    "\n"
   ]
  },
  {
   "cell_type": "markdown",
   "id": "767cc8ae",
   "metadata": {},
   "source": [
    "## 5. Optimize"
   ]
  },
  {
   "cell_type": "code",
   "execution_count": 159,
   "id": "53755ae0",
   "metadata": {},
   "outputs": [],
   "source": [
    "# Add the volume constraint: sum of the simplices = 232\n",
    "volume_expr = gp.LinExpr()\n",
    "for simplex, sign in fano_chirotope.items():\n",
    "    if sign != 0:\n",
    "        volume_expr += x[simplex]\n",
    "m.addConstr(volume_expr == FANO_VOLUME, name=\"volume_constraint\")\n",
    "\n",
    "# maximize the number of activated simplices\n",
    "obj = gp.LinExpr()\n",
    "for simplex, sign in fano_chirotope.items():\n",
    "    if sign != 0:\n",
    "        obj += x[simplex]\n",
    "m.setObjective(obj, GRB.MAXIMIZE)\n",
    "m.update()"
   ]
  },
  {
   "cell_type": "code",
   "execution_count": null,
   "id": "143c4d0a",
   "metadata": {},
   "outputs": [
    {
     "name": "stdout",
     "output_type": "stream",
     "text": [
      "Set parameter DisplayInterval to value 1\n",
      "Set parameter TimeLimit to value 3600\n",
      "Objective should be the volume: 166\n",
      "Gurobi Optimizer version 11.0.1 build v11.0.1rc0 (mac64[arm] - Darwin 24.6.0 24G84)\n",
      "\n",
      "CPU model: Apple M4\n",
      "Thread count: 10 physical cores, 10 logical processors, using up to 10 threads\n",
      "\n",
      "Optimize a model with 1336465 rows, 61918 columns and 5200322 nonzeros\n",
      "Model fingerprint: 0xa01d9ca0\n",
      "Coefficient statistics:\n",
      "  Matrix range     [1e+00, 1e+00]\n",
      "  Objective range  [1e+00, 1e+00]\n",
      "  Bounds range     [1e+00, 1e+00]\n",
      "  RHS range        [2e+00, 2e+02]\n",
      "Presolve removed 0 rows and 0 columns (presolve time = 1s) ...\n",
      "Presolve removed 0 rows and 0 columns (presolve time = 2s) ...\n",
      "Presolve removed 0 rows and 0 columns (presolve time = 3s) ...\n",
      "Presolve removed 0 rows and 0 columns (presolve time = 4s) ...\n",
      "Presolve removed 0 rows and 0 columns (presolve time = 5s) ...\n",
      "Presolve removed 0 rows and 0 columns (presolve time = 6s) ...\n",
      "Presolve removed 0 rows and 0 columns (presolve time = 7s) ...\n",
      "Presolve removed 0 rows and 0 columns (presolve time = 8s) ...\n",
      "Presolve removed 0 rows and 0 columns (presolve time = 9s) ...\n",
      "Presolve removed 10763 rows and 0 columns\n",
      "Presolve time: 20.30s\n",
      "Presolved: 61918 rows, 1387620 columns, 5145343 nonzeros\n",
      "\n",
      "Concurrent LP optimizer: primal simplex, dual simplex, and barrier\n",
      "Showing barrier log only...\n",
      "\n",
      "Elapsed ordering time = 1s\n",
      "Elapsed ordering time = 4s\n",
      "Elapsed ordering time = 4s\n",
      "Elapsed ordering time = 7s\n",
      "Elapsed ordering time = 7s\n",
      "Elapsed ordering time = 8s\n",
      "Elapsed ordering time = 9s\n",
      "Elapsed ordering time = 10s\n",
      "Elapsed ordering time = 11s\n",
      "Elapsed ordering time = 12s\n",
      "Elapsed ordering time = 13s\n",
      "Elapsed ordering time = 14s\n",
      "Elapsed ordering time = 15s\n",
      "Elapsed ordering time = 16s\n",
      "Elapsed ordering time = 18s\n",
      "Elapsed ordering time = 18s\n",
      "Elapsed ordering time = 19s\n"
     ]
    }
   ],
   "source": [
    "lp = m.relax()\n",
    "lp.setParam(\"OutputFlag\", 1)       # make sure logging is on\n",
    "lp.setParam(\"DisplayInterval\", 1)  # print progress every iteration\n",
    "lp.setParam(\"Method\", -1)          # let Gurobi choose the LP algorithm (default)\n",
    "lp.setParam('TimeLimit', 3600)  # 1 hour time limit\n",
    "\n",
    "print(\"Objective should be the volume:\", FANO_VOLUME)\n",
    "\n",
    "lp.optimize()"
   ]
  },
  {
   "cell_type": "code",
   "execution_count": null,
   "id": "516f9176",
   "metadata": {},
   "outputs": [],
   "source": [
    "print(lp.status)        # 2=optimal, 3=infeasible, 4=infeasible or unbounded, 5=unbounded"
   ]
  },
  {
   "cell_type": "code",
   "execution_count": null,
   "id": "5ea2208a",
   "metadata": {},
   "outputs": [],
   "source": [
    "# Interpret the results\n",
    "if m.status == GRB.OPTIMAL:\n",
    "    print(\"Optimal solution found:\")\n",
    "    activated_simplices = [var.varName for var in m.getVars() if var.varName.startswith('x_(') and var.x > 0.5]\n",
    "    activated_edges = [var.varName for var in m.getVars() if var.varName.startswith('x_(') and var.x > 0.5 and len(eval(var.varName[2:])) == 2]\n",
    "    print(f\"Activated simplices ({len(activated_simplices)}): {activated_simplices}\")\n",
    "    print(f\"Activated edges ({len(activated_edges)}): {activated_edges}\")\n"
   ]
  },
  {
   "cell_type": "markdown",
   "id": "b4093fb9",
   "metadata": {},
   "source": [
    "# Running examples"
   ]
  },
  {
   "cell_type": "markdown",
   "id": "30b5aee6",
   "metadata": {},
   "source": [
    "## 1. The mother of all examples (2D)"
   ]
  },
  {
   "cell_type": "markdown",
   "id": "ace6f23a",
   "metadata": {},
   "source": [
    "## 2. The Fano Matroid Polytope (3D)"
   ]
  }
 ],
 "metadata": {
  "kernelspec": {
   "display_name": "Python gurobi-env",
   "language": "python",
   "name": "gurobi-env"
  },
  "language_info": {
   "codemirror_mode": {
    "name": "ipython",
    "version": 3
   },
   "file_extension": ".py",
   "mimetype": "text/x-python",
   "name": "python",
   "nbconvert_exporter": "python",
   "pygments_lexer": "ipython3",
   "version": "3.10.16"
  }
 },
 "nbformat": 4,
 "nbformat_minor": 5
}
