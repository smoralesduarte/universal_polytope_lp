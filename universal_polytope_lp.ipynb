{
 "cells": [
  {
   "cell_type": "code",
   "execution_count": 149,
   "id": "d6ff48fb",
   "metadata": {},
   "outputs": [],
   "source": [
    "import itertools\n",
    "import numpy as np\n",
    "import matplotlib.pyplot as plt\n",
    "import math\n",
    "import time"
   ]
  },
  {
   "cell_type": "markdown",
   "id": "3a6c0a0f",
   "metadata": {},
   "source": [
    "# Examples"
   ]
  },
  {
   "cell_type": "code",
   "execution_count": 167,
   "id": "31c04985",
   "metadata": {},
   "outputs": [],
   "source": [
    "# --- Fano base polytope vertices in R^7 (28 vertices) ---\n",
    "FANO_POINTS = {\n",
    "    0: [0, 1, 0, 0, 0, 1, 1], 1: [0, 0, 1, 0, 0, 1, 1], 2: [0, 0, 0, 1, 0, 1, 1],\n",
    "    3: [0, 0, 0, 0, 1, 1, 1], 4: [1, 0, 0, 0, 1, 0, 1], 5: [0, 0, 1, 0, 1, 0, 1],\n",
    "    6: [0, 0, 0, 1, 1, 0, 1], 7: [1, 0, 0, 1, 0, 0, 1], 8: [0, 1, 0, 1, 0, 0, 1],\n",
    "    9: [1, 0, 1, 0, 0, 0, 1], 10: [0, 1, 1, 0, 0, 0, 1], 11: [1, 1, 0, 0, 0, 0, 1],\n",
    "    12: [1, 0, 0, 0, 1, 1, 0], 13: [0, 1, 0, 0, 1, 1, 0], 14: [0, 0, 0, 1, 1, 1, 0],\n",
    "    15: [1, 0, 0, 1, 0, 1, 0], 16: [0, 0, 1, 1, 0, 1, 0], 17: [1, 0, 1, 0, 0, 1, 0],\n",
    "    18: [0, 1, 1, 0, 0, 1, 0], 19: [1, 1, 0, 0, 0, 1, 0], 20: [0, 1, 0, 1, 1, 0, 0],\n",
    "    21: [0, 0, 1, 1, 1, 0, 0], 22: [1, 0, 1, 0, 1, 0, 0], 23: [0, 1, 1, 0, 1, 0, 0],\n",
    "    24: [1, 1, 0, 0, 1, 0, 0], 25: [1, 0, 1, 1, 0, 0, 0], 26: [0, 1, 1, 1, 0, 0, 0],\n",
    "    27: [1, 1, 0, 1, 0, 0, 0]\n",
    "}\n",
    "\n",
    "FANO_RANK = 7\n",
    "\n",
    "# Test for known unimodular simplices of the Fano matroid\n",
    "FANO_known_unimodular_simplices = [\n",
    "    (0, 1, 2, 3, 5, 9, 18),\n",
    "    (3, 4, 12, 13, 14, 17, 23),\n",
    "    (3, 4, 12, 14, 17, 22, 23),\n",
    "    (3, 5, 6, 9, 11, 18, 23),\n",
    "    (11, 15, 17, 19, 20, 22, 27)\n",
    "]"
   ]
  },
  {
   "cell_type": "code",
   "execution_count": 168,
   "id": "f149c5a7",
   "metadata": {},
   "outputs": [],
   "source": [
    "# -----------------------------------------------------------------------------\n",
    "# Data for the 6 vertices of the mother of all examples 2D point configuration.\n",
    "# Each has 3 coordinates that sum to 4. \n",
    "\n",
    "MOTHER_POINTS = {\n",
    "    0: [4, 0, 0], 1: [0, 4, 0], 2: [0, 0, 4],\n",
    "    3: [2, 1, 1], 4: [1, 2, 1], 5: [1, 1, 2]\n",
    "}\n",
    "\n",
    "MOTHER_RANK = 3"
   ]
  },
  {
   "cell_type": "code",
   "execution_count": null,
   "id": "8a569efa",
   "metadata": {},
   "outputs": [],
   "source": [
    "CUBE_POINTS = {\n",
    "    0: [0, 0, 1, 1], 1: [0, 1, 1, 1], 2: [1, 1, 1, 1], 3: [1, 0, 1, 1],\n",
    "    4: [0, 0, 0, 1], 5: [0, 1, 0, 1], 6: [1, 1, 0, 1], 7: [1, 0, 0, 1]\n",
    "}\n",
    "\n",
    "CUBE_RANK = 4"
   ]
  },
  {
   "cell_type": "markdown",
   "id": "06e330d9",
   "metadata": {},
   "source": [
    "# Generate the LP to optimize over the Universal Polytope"
   ]
  },
  {
   "cell_type": "markdown",
   "id": "afe288ba",
   "metadata": {},
   "source": [
    "## 1. Get unimodular simplices"
   ]
  },
  {
   "cell_type": "code",
   "execution_count": 152,
   "id": "2121756e",
   "metadata": {},
   "outputs": [],
   "source": [
    "def cayley_menger_det(indices, D2):\n",
    "    \"\"\"\n",
    "    Cayley-Menger determinant for the simplex with vertex indices 'indices'.\n",
    "    Returns (determinant, volume_squared, volume).\n",
    "    For m vertices, the simplex dimension is n = m - 1.\n",
    "    \"\"\"\n",
    "    idx = np.array(indices, dtype=int)\n",
    "    m = len(idx)                       # number of vertices\n",
    "    n = m - 1                          # simplex dimension\n",
    "    # Build the (m+1) x (m+1) CM matrix:\n",
    "    M = np.ones((m + 1, m + 1), dtype=np.float64)\n",
    "    M[:m, :m] = D2[np.ix_(idx, idx)]   # top-left block = pairwise d^2\n",
    "    np.fill_diagonal(M[:m, :m], 0.0)   # ensure exact 0 on diagonal\n",
    "    M[-1, -1] = 0.0                    # bottom-right corner\n",
    "\n",
    "    det = float(np.linalg.det(M))\n",
    "    # The normalized factor for the Caley-Menger determinant, multiplied dimension factorial over the co-volume of the lattice squared\n",
    "    factor = ((-1)**(n + 1)) / (7 * (2**n))\n",
    "    vol_sq = factor * det\n",
    "    # guard small negative due to FP roundoff\n",
    "    vol = math.sqrt(vol_sq) if vol_sq >= 0 else 0.0\n",
    "    return vol\n",
    "\n",
    "# Find all unimodular simplices in a point configuration\n",
    "def get_unimodular_simplices(points, rank):\n",
    "    # Precompute pairwise squared distances\n",
    "    P = np.array([points[i] for i in range(len(points))], dtype=np.float64) \n",
    "    D2 = np.sum((P[:, None, :] - P[None, :, :])**2, axis=2)\n",
    "    unimodular_simplices = []\n",
    "    for simplex in itertools.combinations(range(len(points)), rank):\n",
    "        vol = round(cayley_menger_det(simplex, D2))\n",
    "        if vol == 1:\n",
    "            unimodular_simplices.append(simplex)\n",
    "    return unimodular_simplices"
   ]
  },
  {
   "cell_type": "code",
   "execution_count": 153,
   "id": "739a89d1",
   "metadata": {},
   "outputs": [
    {
     "data": {
      "image/png": "[encoded data removed]",
      "text/plain": [
       "<Figure size 640x480 with 1 Axes>"
      ]
     },
     "metadata": {},
     "output_type": "display_data"
    },
    {
     "name": "stdout",
     "output_type": "stream",
     "text": [
      "Unique volumes: [0, 1, 2, 3, 4, 8]\n"
     ]
    }
   ],
   "source": [
    "# For testing print a histogram of the normalized volumes of all the simplices\n",
    "def print_volume_histogram(simplices):\n",
    "    volumes = []\n",
    "    unique_volumes = set()\n",
    "\n",
    "    # Precompute pairwise squared distances\n",
    "    P = np.array([FANO_POINTS[i] for i in range(len(FANO_POINTS))], dtype=np.float64) \n",
    "    D2 = np.sum((P[:, None, :] - P[None, :, :])**2, axis=2)\n",
    "\n",
    "    for s in simplices:\n",
    "        vol = round(cayley_menger_det(s, D2))\n",
    "        volumes.append(vol)\n",
    "        unique_volumes.add(round(vol))\n",
    "    \n",
    "    plt.hist(volumes, bins=20, density=False, alpha=0.7, color='blue')\n",
    "    plt.title('Histogram of Normalized Volumes of Simplices')\n",
    "    plt.xlabel('Volume')\n",
    "    plt.ylabel('Density')\n",
    "    plt.grid()\n",
    "    plt.show()\n",
    "    print(f\"Unique volumes: {sorted(unique_volumes)}\")\n",
    "\n",
    "print_volume_histogram(itertools.combinations(range(28), 7))"
   ]
  },
  {
   "cell_type": "code",
   "execution_count": 154,
   "id": "b94aef16",
   "metadata": {},
   "outputs": [
    {
     "name": "stdout",
     "output_type": "stream",
     "text": [
      "Found 502624 unimodular simplices for the fano matroid polytope.\n"
     ]
    }
   ],
   "source": [
    "test = get_unimodular_simplices(FANO_POINTS, FANO_RANK)\n",
    "print(f\"Found {len(test)} unimodular simplices for the fano matroid polytope.\")"
   ]
  },
  {
   "cell_type": "markdown",
   "id": "2f94c2b4",
   "metadata": {},
   "source": [
    "## 2. Compute the Chirotope"
   ]
  },
  {
   "cell_type": "code",
   "execution_count": 155,
   "id": "675992fc",
   "metadata": {},
   "outputs": [],
   "source": [
    "# Initialize the chirotope dictionary by computing the simplices\n",
    "\n",
    "def initialize_chirotope(point_configuration, rank, tolerance=1e-13):\n",
    "    n = len(point_configuration)\n",
    "    chirotope = {}\n",
    "    possible_simplices = itertools.combinations(range(n), rank)\n",
    "    for comb in possible_simplices:\n",
    "        simplex = tuple(comb)\n",
    "        det = np.linalg.det(np.array([point_configuration[i] for i in simplex]))\n",
    "        if abs(det) < tolerance:\n",
    "            chirotope[simplex] = 0\n",
    "        else:\n",
    "            chirotope[simplex] = np.sign(det)\n",
    "    return chirotope"
   ]
  },
  {
   "cell_type": "markdown",
   "id": "8ff62395",
   "metadata": {},
   "source": [
    "### Testing"
   ]
  },
  {
   "cell_type": "code",
   "execution_count": 156,
   "id": "ef0f6f07",
   "metadata": {},
   "outputs": [
    {
     "name": "stdout",
     "output_type": "stream",
     "text": [
      "Mother chirotope initialized in 0.000102 seconds.\n",
      "Fano chirotope initialized in 4.506987 seconds.\n"
     ]
    }
   ],
   "source": [
    "# print times for the mother and the fano examples\n",
    "mother_start = time.time()\n",
    "mother_chirotope = initialize_chirotope(MOTHER_POINTS, MOTHER_RANK)\n",
    "mother_end = time.time()\n",
    "print(f\"Mother chirotope initialized in {mother_end - mother_start:.6f} seconds.\")  \n",
    "fano_start = time.time()\n",
    "fano_chirotope = initialize_chirotope(FANO_POINTS, FANO_RANK)\n",
    "fano_end = time.time()\n",
    "print(f\"Fano chirotope initialized in {fano_end - fano_start:.6f} seconds.\")"
   ]
  },
  {
   "cell_type": "markdown",
   "id": "304cc01c",
   "metadata": {},
   "source": [
    "## 3. Encode the Wall inequalities"
   ]
  },
  {
   "cell_type": "code",
   "execution_count": 183,
   "id": "3117dbaa",
   "metadata": {},
   "outputs": [],
   "source": [
    "# Get the list of simplex facets of the point configuration (every r - 1 subset of the non-zero chirotope simplices)\n",
    "def get_simplex_facets(chirotope, rank):\n",
    "    facets = []\n",
    "    for simplex, sign in chirotope.items():\n",
    "        if sign != 0:\n",
    "            for facet in itertools.combinations(simplex, rank - 1):\n",
    "                facets.append(facet)\n",
    "    return sorted(list(set(facets))) # return unique facets"
   ]
  },
  {
   "cell_type": "code",
   "execution_count": 184,
   "id": "07817edd",
   "metadata": {},
   "outputs": [
    {
     "name": "stdout",
     "output_type": "stream",
     "text": [
      "Mother of all examples has 15 facets.\n",
      "[(0, 1), (0, 2), (0, 3), (0, 4), (0, 5), (1, 2), (1, 3), (1, 4), (1, 5), (2, 3), (2, 4), (2, 5), (3, 4), (3, 5), (4, 5)]\n"
     ]
    }
   ],
   "source": [
    "# Testing on the mother of all examples, print the simplex facets\n",
    "mother_facets = get_simplex_facets(mother_chirotope, MOTHER_RANK)\n",
    "print(f\"Mother of all examples has {len(mother_facets)} facets.\")\n",
    "print(mother_facets)"
   ]
  },
  {
   "cell_type": "code",
   "execution_count": 185,
   "id": "85b3cb71",
   "metadata": {},
   "outputs": [],
   "source": [
    "# Find the co-circuit signatures for each facet \n",
    "# Output a tuple of two lists for each simplex facet: negative and postive signatures\n",
    "# The sign of the permutation is considered\n",
    "def find_cocircuit_signatures(chirotope, facets, n):\n",
    "    cocircuit_signatures = {}\n",
    "    # for each facet, go through all vertices not in the facet\n",
    "    # find the number of inversions (r - index of the vertex in the ordered simplex)\n",
    "    r = len(facets[0]) + 1\n",
    "    for facet in facets:\n",
    "        negative_signatures = []\n",
    "        positive_signatures = []\n",
    "        facet_set = set(facet)\n",
    "        for vertex in range(n):\n",
    "            if vertex not in facet_set:\n",
    "                # Create the full simplex by adding the vertex\n",
    "                full_simplex = list(facet) + [vertex]\n",
    "                full_simplex.sort()\n",
    "                # Account for the sign of the permutation\n",
    "                correction = (r - full_simplex.index(vertex)) % 2 \n",
    "                sign = chirotope.get(tuple(full_simplex)) * (-1)**correction\n",
    "                if sign == -1:\n",
    "                    negative_signatures.append(vertex)\n",
    "                elif sign == 1:\n",
    "                    positive_signatures.append(vertex)\n",
    "        cocircuit_signatures[facet] = (negative_signatures, positive_signatures)\n",
    "    return cocircuit_signatures"
   ]
  },
  {
   "cell_type": "code",
   "execution_count": 186,
   "id": "f0955368",
   "metadata": {},
   "outputs": [
    {
     "name": "stdout",
     "output_type": "stream",
     "text": [
      "Mother of all examples cocircuit signatures:\n",
      "Facet (0, 1): Negative [2, 3, 4, 5], Positive []\n",
      "Facet (0, 2): Negative [], Positive [1, 3, 4, 5]\n",
      "Facet (0, 3): Negative [2, 5], Positive [1, 4]\n",
      "Facet (0, 4): Negative [2, 3, 5], Positive [1]\n",
      "Facet (0, 5): Negative [2], Positive [1, 3, 4]\n",
      "Facet (1, 2): Negative [0, 3, 4, 5], Positive []\n",
      "Facet (1, 3): Negative [0], Positive [2, 4, 5]\n",
      "Facet (1, 4): Negative [0, 3], Positive [2, 5]\n",
      "Facet (1, 5): Negative [0, 3, 4], Positive [2]\n",
      "Facet (2, 3): Negative [1, 4, 5], Positive [0]\n",
      "Facet (2, 4): Negative [1], Positive [0, 3, 5]\n",
      "Facet (2, 5): Negative [1, 4], Positive [0, 3]\n",
      "Facet (3, 4): Negative [2, 5], Positive [0, 1]\n",
      "Facet (3, 5): Negative [0, 2], Positive [1, 4]\n",
      "Facet (4, 5): Negative [0, 3], Positive [1, 2]\n"
     ]
    }
   ],
   "source": [
    "# Testing on the mother of all examples, print the cocircuit signatures\n",
    "mother_cocircuit_signatures = find_cocircuit_signatures(mother_chirotope, mother_facets, len(MOTHER_POINTS))\n",
    "print(\"Mother of all examples cocircuit signatures:\")\n",
    "for facet, (neg, pos) in mother_cocircuit_signatures.items():\n",
    "    print(f\"Facet {facet}: Negative {neg}, Positive {pos}\")"
   ]
  },
  {
   "cell_type": "code",
   "execution_count": 187,
   "id": "cf3c1414",
   "metadata": {},
   "outputs": [
    {
     "name": "stdout",
     "output_type": "stream",
     "text": [
      "Cube example cocircuit signatures:\n",
      "Facet (0, 1, 2): Negative [], Positive [4, 5, 6, 7]\n",
      "Facet (0, 1, 3): Negative [], Positive [4, 5, 6, 7]\n",
      "Facet (0, 1, 4): Negative [2, 3, 6, 7], Positive []\n",
      "Facet (0, 1, 5): Negative [2, 3, 6, 7], Positive []\n",
      "Facet (0, 1, 6): Negative [2, 3], Positive [4, 5]\n",
      "Facet (0, 1, 7): Negative [2, 3], Positive [4, 5]\n",
      "Facet (0, 2, 3): Negative [4, 5, 6, 7], Positive []\n",
      "Facet (0, 2, 4): Negative [], Positive [1, 3, 5, 7]\n",
      "Facet (0, 2, 5): Negative [4, 6], Positive [1, 3]\n",
      "Facet (0, 2, 6): Negative [], Positive [1, 3, 5, 7]\n",
      "Facet (0, 2, 7): Negative [4, 6], Positive [1, 3]\n",
      "Facet (0, 3, 4): Negative [2, 6], Positive [1, 5]\n",
      "Facet (0, 3, 5): Negative [2, 4, 6, 7], Positive [1]\n",
      "Facet (0, 3, 6): Negative [2], Positive [1, 4, 5, 7]\n",
      "Facet (0, 3, 7): Negative [2, 6], Positive [1, 5]\n",
      "Facet (0, 4, 5): Negative [], Positive [2, 3, 6, 7]\n",
      "Facet (0, 4, 6): Negative [1, 3, 5, 7], Positive []\n",
      "Facet (0, 4, 7): Negative [1, 5], Positive [2, 6]\n",
      "Facet (0, 5, 6): Negative [1, 2, 3, 7], Positive [4]\n",
      "Facet (0, 5, 7): Negative [1, 3], Positive [4, 6]\n",
      "Facet (0, 6, 7): Negative [4, 5], Positive [2, 3]\n",
      "Facet (1, 2, 3): Negative [4, 5, 6, 7], Positive []\n",
      "Facet (1, 2, 4): Negative [0], Positive [3, 5, 6, 7]\n",
      "Facet (1, 2, 5): Negative [0, 4], Positive [3, 7]\n",
      "Facet (1, 2, 6): Negative [0, 4], Positive [3, 7]\n",
      "Facet (1, 2, 7): Negative [0, 4, 5, 6], Positive [3]\n",
      "Facet (1, 3, 4): Negative [0, 2], Positive [5, 7]\n",
      "Facet (1, 3, 5): Negative [0, 2, 4, 6], Positive []\n",
      "Facet (1, 3, 6): Negative [0, 2], Positive [5, 7]\n",
      "Facet (1, 3, 7): Negative [0, 2, 4, 6], Positive []\n",
      "Facet (1, 4, 5): Negative [], Positive [2, 3, 6, 7]\n",
      "Facet (1, 4, 6): Negative [5, 7], Positive [0, 2]\n",
      "Facet (1, 4, 7): Negative [5], Positive [0, 2, 3, 6]\n",
      "Facet (1, 5, 6): Negative [3, 7], Positive [0, 4]\n",
      "Facet (1, 5, 7): Negative [], Positive [0, 2, 4, 6]\n",
      "Facet (1, 6, 7): Negative [4, 5], Positive [2, 3]\n",
      "Facet (2, 3, 4): Negative [6, 7], Positive [0, 1]\n",
      "Facet (2, 3, 5): Negative [6, 7], Positive [0, 1]\n",
      "Facet (2, 3, 6): Negative [], Positive [0, 1, 4, 5]\n",
      "Facet (2, 3, 7): Negative [], Positive [0, 1, 4, 5]\n",
      "Facet (2, 4, 5): Negative [0, 1], Positive [6, 7]\n",
      "Facet (2, 4, 6): Negative [1, 3, 5, 7], Positive []\n",
      "Facet (2, 4, 7): Negative [0, 1, 3, 5], Positive [6]\n",
      "Facet (2, 5, 6): Negative [3, 7], Positive [0, 4]\n",
      "Facet (2, 5, 7): Negative [1, 3], Positive [4, 6]\n",
      "Facet (2, 6, 7): Negative [0, 1, 4, 5], Positive []\n",
      "Facet (3, 4, 5): Negative [0, 1], Positive [6, 7]\n",
      "Facet (3, 4, 6): Negative [5, 7], Positive [0, 2]\n",
      "Facet (3, 4, 7): Negative [1, 5], Positive [2, 6]\n",
      "Facet (3, 5, 6): Negative [7], Positive [0, 1, 2, 4]\n",
      "Facet (3, 5, 7): Negative [], Positive [0, 2, 4, 6]\n",
      "Facet (3, 6, 7): Negative [0, 1, 4, 5], Positive []\n",
      "Facet (4, 5, 6): Negative [0, 1, 2, 3], Positive []\n",
      "Facet (4, 5, 7): Negative [0, 1, 2, 3], Positive []\n",
      "Facet (4, 6, 7): Negative [], Positive [0, 1, 2, 3]\n",
      "Facet (5, 6, 7): Negative [], Positive [0, 1, 2, 3]\n"
     ]
    }
   ],
   "source": [
    "# print the cocircuit signatures for the cube example\n",
    "cube_chirotope = initialize_chirotope(CUBE_POINTS, CUBE_RANK)\n",
    "cube_facets = get_simplex_facets(cube_chirotope, CUBE_RANK)\n",
    "cube_cocircuit_signatures = find_cocircuit_signatures(cube_chirotope, cube_facets, len(CUBE_POINTS))\n",
    "print(\"Cube example cocircuit signatures:\")\n",
    "for facet, (neg, pos) in cube_cocircuit_signatures.items():\n",
    "    print(f\"Facet {facet}: Negative {neg}, Positive {pos}\")"
   ]
  },
  {
   "cell_type": "markdown",
   "id": "a6326076",
   "metadata": {},
   "source": [
    "## 4. Encode the Flag inequalities"
   ]
  },
  {
   "cell_type": "markdown",
   "id": "767cc8ae",
   "metadata": {},
   "source": [
    "## 5. Optimize"
   ]
  },
  {
   "cell_type": "markdown",
   "id": "b4093fb9",
   "metadata": {},
   "source": [
    "# Running examples"
   ]
  },
  {
   "cell_type": "markdown",
   "id": "30b5aee6",
   "metadata": {},
   "source": [
    "## 1. The mother of all examples (2D)"
   ]
  },
  {
   "cell_type": "markdown",
   "id": "ace6f23a",
   "metadata": {},
   "source": [
    "## 2. The Fano Matroid Polytope (3D)"
   ]
  }
 ],
 "metadata": {
  "kernelspec": {
   "display_name": "Python gurobi-env",
   "language": "python",
   "name": "gurobi-env"
  },
  "language_info": {
   "codemirror_mode": {
    "name": "ipython",
    "version": 3
   },
   "file_extension": ".py",
   "mimetype": "text/x-python",
   "name": "python",
   "nbconvert_exporter": "python",
   "pygments_lexer": "ipython3",
   "version": "3.10.16"
  }
 },
 "nbformat": 4,
 "nbformat_minor": 5
}
