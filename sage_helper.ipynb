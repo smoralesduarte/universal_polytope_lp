{
 "cells": [
  {
   "cell_type": "code",
   "execution_count": 4,
   "id": "56643a2e",
   "metadata": {
    "vscode": {
     "languageId": "sage"
    }
   },
   "outputs": [],
   "source": [
    "factorial(3)\n",
    "\n",
    "FANO_POINTS = {\n",
    "    0: [0, 1, 0, 0, 0, 1, 1], 1: [0, 0, 1, 0, 0, 1, 1], 2: [0, 0, 0, 1, 0, 1, 1],\n",
    "    3: [0, 0, 0, 0, 1, 1, 1], 4: [1, 0, 0, 0, 1, 0, 1], 5: [0, 0, 1, 0, 1, 0, 1],\n",
    "    6: [0, 0, 0, 1, 1, 0, 1], 7: [1, 0, 0, 1, 0, 0, 1], 8: [0, 1, 0, 1, 0, 0, 1],\n",
    "    9: [1, 0, 1, 0, 0, 0, 1], 10: [0, 1, 1, 0, 0, 0, 1], 11: [1, 1, 0, 0, 0, 0, 1],\n",
    "    12: [1, 0, 0, 0, 1, 1, 0], 13: [0, 1, 0, 0, 1, 1, 0], 14: [0, 0, 0, 1, 1, 1, 0],\n",
    "    15: [1, 0, 0, 1, 0, 1, 0], 16: [0, 0, 1, 1, 0, 1, 0], 17: [1, 0, 1, 0, 0, 1, 0],\n",
    "    18: [0, 1, 1, 0, 0, 1, 0], 19: [1, 1, 0, 0, 0, 1, 0], 20: [0, 1, 0, 1, 1, 0, 0],\n",
    "    21: [0, 0, 1, 1, 1, 0, 0], 22: [1, 0, 1, 0, 1, 0, 0], 23: [0, 1, 1, 0, 1, 0, 0],\n",
    "    24: [1, 1, 0, 0, 1, 0, 0], 25: [1, 0, 1, 1, 0, 0, 0], 26: [0, 1, 1, 1, 0, 0, 0],\n",
    "    27: [1, 1, 0, 1, 0, 0, 0]\n",
    "}"
   ]
  },
  {
   "cell_type": "code",
   "execution_count": 11,
   "id": "cf374343",
   "metadata": {
    "vscode": {
     "languageId": "sage"
    }
   },
   "outputs": [
    {
     "name": "stdout",
     "output_type": "stream",
     "text": [
      "Fano polytope volume: 232\n"
     ]
    }
   ],
   "source": [
    "# compute the volume of the fano polytope\n",
    "from sage.all import *\n",
    "import itertools\n",
    "import matplotlib.pyplot as plt\n",
    "import os\n",
    "\n",
    "fano_polytope = Polyhedron(vertices=list(FANO_POINTS.values()))\n",
    "print(f\"Fano polytope volume: {round(fano_polytope.volume(measure='induced') * factorial(6) / sqrt(7))}\")"
   ]
  },
  {
   "cell_type": "code",
   "execution_count": 8,
   "id": "d43ce27b",
   "metadata": {
    "vscode": {
     "languageId": "sage"
    }
   },
   "outputs": [
    {
     "data": {
      "text/plain": [
       "A 6-dimensional polyhedron in ZZ^7 defined as the convex hull of 28 vertices (use the .plot() method to plot)"
      ]
     },
     "execution_count": 8,
     "metadata": {},
     "output_type": "execute_result"
    }
   ],
   "source": [
    "fano_polytope"
   ]
  }
 ],
 "metadata": {
  "kernelspec": {
   "display_name": "SageMath 10.6",
   "language": "sage",
   "name": "SageMath-10.6"
  },
  "language_info": {
   "codemirror_mode": {
    "name": "ipython",
    "version": 3
   },
   "file_extension": ".py",
   "mimetype": "text/x-python",
   "name": "python",
   "nbconvert_exporter": "python",
   "pygments_lexer": "ipython3",
   "version": "3.12.5"
  }
 },
 "nbformat": 4,
 "nbformat_minor": 5
}
